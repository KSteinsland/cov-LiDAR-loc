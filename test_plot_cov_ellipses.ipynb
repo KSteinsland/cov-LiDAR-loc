{
 "cells": [
  {
   "cell_type": "code",
   "execution_count": 2,
   "metadata": {},
   "outputs": [],
   "source": [
    "from PCSampler import PCSampler, vis_pc, transform_cloud\n",
    "from manifpy import SE3, SO3, SE3Tangent\n",
    "import open3d as o3d\n",
    "import numpy as np\n",
    "import tf\n",
    "import matplotlib.pyplot as plt\n",
    "from matplotlib.patches import Ellipse"
   ]
  },
  {
   "cell_type": "code",
   "execution_count": 24,
   "metadata": {},
   "outputs": [
    {
     "data": {
      "image/png": "[encoded data removed]",
      "text/plain": [
       "<Figure size 640x480 with 1 Axes>"
      ]
     },
     "metadata": {},
     "output_type": "display_data"
    }
   ],
   "source": [
    "\n",
    "import pickle\n",
    "from turtle import width\n",
    "samples = None\n",
    "with open(\"tf_samples.p\", \"rb\") as f:\n",
    "    samples = pickle.load(f)\n",
    "\n",
    "iterations = 100\n",
    "def calc_mean_cov(tf_list):\n",
    "    mean = np.zeros(6)\n",
    "    cov = np.zeros((6,6))\n",
    "    for T in tf_list: \n",
    "        q = tf.transformations.quaternion_from_matrix(T)\n",
    "        t = T[:3, 3]\n",
    "        tf_b = SE3(np.concatenate((t, q)))\n",
    "        tf_l = tf_b.log().coeffs()\n",
    "        mean += tf_l\n",
    "        cov += np.outer(tf_l, tf_l)\n",
    "    mean = mean / iterations\n",
    "    cov = cov / (iterations - 1)\n",
    "    return mean, cov\n",
    "\n",
    "mean, cov = calc_mean_cov(samples)\n",
    "\n",
    "def ellipse_params(covmat2x2):\n",
    "    a = covmat2x2[0,0]\n",
    "    b = covmat2x2[0,1]\n",
    "    c = covmat2x2[1,1]\n",
    "    width  = (a+c)/2 + np.sqrt(((a-c)/2)**2 + b**2)\n",
    "    length = (a+c)/2 - np.sqrt(((a-c)/2)**2 + b**2)\n",
    "    angle = 0\n",
    "    if b == 0 and a >= c:\n",
    "        angle = 0\n",
    "    elif b == 0 and a < c:\n",
    "        angle = np.pi / 2\n",
    "    else:\n",
    "        angle = np.arctan2(width - a, b)\n",
    "    return np.sqrt(width), np.sqrt(length), angle\n",
    "\n",
    "w, l, a = ellipse_params(cov[:2, :2])\n",
    "fig, ax = plt.subplots()\n",
    "e = Ellipse(mean[:2], w, l, angle=a)\n",
    "e.set_fill(False)\n",
    "ax.set_xlim(-50, 50)\n",
    "ax.set_ylim(-50, 50)\n",
    "ax.add_artist(e)\n",
    "ax.autoscale()\n"
   ]
  }
 ],
 "metadata": {
  "kernelspec": {
   "display_name": "Python 3.9.12 ('base')",
   "language": "python",
   "name": "python3"
  },
  "language_info": {
   "codemirror_mode": {
    "name": "ipython",
    "version": 3
   },
   "file_extension": ".py",
   "mimetype": "text/x-python",
   "name": "python",
   "nbconvert_exporter": "python",
   "pygments_lexer": "ipython3",
   "version": "3.9.12"
  },
  "orig_nbformat": 4,
  "vscode": {
   "interpreter": {
    "hash": "f855230b8d1af0a1175eb1e018a76566b5b0c7c21b17beea99e6a208ed901df6"
   }
  }
 },
 "nbformat": 4,
 "nbformat_minor": 2
}
