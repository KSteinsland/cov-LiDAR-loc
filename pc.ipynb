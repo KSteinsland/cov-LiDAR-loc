{
 "cells": [
  {
   "cell_type": "code",
   "execution_count": 5,
   "metadata": {},
   "outputs": [],
   "source": [
    "from PCSampler import PCSampler, vis_pc, transform_cloud\n",
    "from manifpy import SE3, SO3, SE3Tangent\n",
    "import numpy as np"
   ]
  },
  {
   "cell_type": "code",
   "execution_count": 2,
   "metadata": {},
   "outputs": [],
   "source": [
    "S = PCSampler()\n",
    "S.load_samples()\n",
    "clouds = S.get_clouds()\n",
    "transforms = S.get_transforms(use_quat=True)"
   ]
  },
  {
   "cell_type": "code",
   "execution_count": 45,
   "metadata": {},
   "outputs": [],
   "source": [
    "#get the two first clouds and their tranformations to world\n",
    "c0, c1 = clouds[7], clouds[8]\n",
    "T0, T1 = SE3(transforms[0]), SE3(transforms[1])\n",
    "c0_world = transform_cloud(c0, T0.transform())\n",
    "c1_world = transform_cloud(c1, T1.transform())\n",
    "vis_pc([c0_world, c1_world])"
   ]
  },
  {
   "cell_type": "code",
   "execution_count": 46,
   "metadata": {},
   "outputs": [],
   "source": [
    "#get ground truth relative transformation\n",
    "T = (T1 - T0).exp()\n",
    "c1_0 = transform_cloud(c1, T.transform())\n",
    "vis_pc([c1, c1_0])\n"
   ]
  },
  {
   "cell_type": "code",
   "execution_count": 75,
   "metadata": {},
   "outputs": [],
   "source": [
    "#give c1 some random perturbations around T \n",
    "cov = 0.1\n",
    "p = np.sqrt(cov)*np.random.normal(size=6)\n",
    "p[3] = 0\n",
    "p[4] = 0\n",
    "T_p = T+SE3Tangent(p)\n",
    "vis_pc([c1_0, transform_cloud(c1_0, T_p.transform())])"
   ]
  },
  {
   "cell_type": "code",
   "execution_count": 60,
   "metadata": {},
   "outputs": [
    {
     "name": "stdout",
     "output_type": "stream",
     "text": [
      "[[ 9.91003522e-01  1.33833437e-01 -7.94497496e-04  6.21230412e-02]\n",
      " [-1.33834211e-01  9.91003213e-01 -1.01774772e-03 -1.16727915e-01]\n",
      " [ 6.51140896e-04  1.11492252e-03  9.99999166e-01  3.68157959e-03]\n",
      " [ 0.00000000e+00  0.00000000e+00  0.00000000e+00  1.00000000e+00]]\n"
     ]
    }
   ],
   "source": [
    "\n",
    "#registering c1 to c0\n",
    "import open3d as o3d\n",
    "\n",
    "#convert clouds to open3d clouds\n",
    "pcd0 = o3d.geometry.PointCloud()\n",
    "pcd0.points = o3d.utility.Vector3dVector(c0)\n",
    "pcd0.estimate_normals()\n",
    "\n",
    "pcd1 = o3d.geometry.PointCloud()\n",
    "pcd1.points = o3d.utility.Vector3dVector(c1)\n",
    "pcd0.estimate_normals()\n",
    "\n",
    "#do registration\n",
    "treshold = 1\n",
    "initial_T = np.eye(4)\n",
    "reg = o3d.pipelines.registration.registration_icp(\n",
    "    pcd1, pcd0, treshold, initial_T, \n",
    "    o3d.pipelines.registration.TransformationEstimationPointToPlane()\n",
    ")\n",
    "icp_transform = reg.transformation\n",
    "print(icp_transform)\n",
    "c1_registered = transform_cloud(c1, icp_transform)\n",
    "\n",
    "#vis_pc([c0, c1_0])\n",
    "vis_pc([c0, c1_registered])"
   ]
  }
 ],
 "metadata": {
  "kernelspec": {
   "display_name": "Python 3.9.12 ('base')",
   "language": "python",
   "name": "python3"
  },
  "language_info": {
   "codemirror_mode": {
    "name": "ipython",
    "version": 3
   },
   "file_extension": ".py",
   "mimetype": "text/x-python",
   "name": "python",
   "nbconvert_exporter": "python",
   "pygments_lexer": "ipython3",
   "version": "3.9.12"
  },
  "orig_nbformat": 4,
  "vscode": {
   "interpreter": {
    "hash": "f855230b8d1af0a1175eb1e018a76566b5b0c7c21b17beea99e6a208ed901df6"
   }
  }
 },
 "nbformat": 4,
 "nbformat_minor": 2
}
