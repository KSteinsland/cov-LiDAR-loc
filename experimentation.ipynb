{
 "cells": [
  {
   "cell_type": "code",
   "execution_count": 2,
   "metadata": {},
   "outputs": [
    {
     "name": "stdout",
     "output_type": "stream",
     "text": [
      "Jupyter environment detected. Enabling Open3D WebVisualizer.\n",
      "[Open3D INFO] WebRTC GUI backend enabled.\n",
      "[Open3D INFO] WebRTCWindowSystem: HTTP handshake server disabled.\n"
     ]
    }
   ],
   "source": [
    "from PCSampler import PCSampler, vis_pc, transform_cloud\n",
    "from manifpy import SE3, SO3, SE3Tangent\n",
    "import open3d as o3d\n",
    "import numpy as np"
   ]
  },
  {
   "cell_type": "code",
   "execution_count": 14,
   "metadata": {},
   "outputs": [],
   "source": [
    "S = PCSampler()\n",
    "S.load_samples()\n",
    "clouds = S.get_clouds()\n",
    "transforms = S.get_transforms(use_quat=True)"
   ]
  },
  {
   "cell_type": "code",
   "execution_count": 15,
   "metadata": {},
   "outputs": [],
   "source": [
    "#get the two first clouds and their tranformations to world\n",
    "c0, c1 = clouds[0], clouds[8]\n",
    "T0, T1 = SE3(transforms[0]), SE3(transforms[8])\n",
    "c0_world = transform_cloud(c0, T0.transform())\n",
    "c1_world = transform_cloud(c1, T1.transform())\n",
    "#vis_pc([c0_world, c1_world])"
   ]
  },
  {
   "cell_type": "code",
   "execution_count": 28,
   "metadata": {},
   "outputs": [],
   "source": [
    "#get ground truth relative transformation\n",
    "T = T0.inverse()*T1\n",
    "c1_0 = transform_cloud(c1, T.transform())\n",
    "vis_pc([c0, c1_0])\n"
   ]
  },
  {
   "cell_type": "code",
   "execution_count": 37,
   "metadata": {},
   "outputs": [],
   "source": [
    "#give T some random perturbations to simulate odometry noise\n",
    "cov_pos = 10\n",
    "cov_yaw = 0.01\n",
    "p = np.zeros(6)\n",
    "p[:2] = np.sqrt(cov_pos)*np.random.normal(size=2) # we only perturb x,y\n",
    "p[5] = np.sqrt(cov_yaw)*np.random.normal(size=1) # we only perturb yaw\n",
    "T_p = SE3Tangent(p) + T #I guess we want to add p on the left side?\n",
    "c1_0p = transform_cloud(c1, T_p.transform())\n",
    "vis_pc([c0, c1_0p])"
   ]
  },
  {
   "cell_type": "code",
   "execution_count": 27,
   "metadata": {},
   "outputs": [
    {
     "name": "stdout",
     "output_type": "stream",
     "text": [
      "[[ 9.96959074e-01  7.74747512e-02  8.38257738e-03  6.69788712e+00]\n",
      " [-7.74625447e-02  9.96993689e-01 -1.77166479e-03  4.99092154e-01]\n",
      " [-8.49463603e-03  1.11694151e-03  9.99963296e-01 -1.73756717e-01]\n",
      " [ 0.00000000e+00  0.00000000e+00  0.00000000e+00  1.00000000e+00]]\n",
      "RegistrationResult with fitness=1.000000e+00, inlier_rmse=4.159245e-01, and correspondence_set size of 6294\n",
      "Access transformation to get result.\n",
      "[[ 9.97098156e-01  7.61241395e-02  6.18627839e-04  8.37998950e+00]\n",
      " [-7.61241781e-02  9.97098344e-01  3.90736383e-05  5.53731008e-01]\n",
      " [-6.13858347e-04 -8.60527886e-05  9.99999808e-01 -7.78385706e-03]\n",
      " [ 0.00000000e+00  0.00000000e+00  0.00000000e+00  1.00000000e+00]]\n"
     ]
    }
   ],
   "source": [
    "#convert clouds to open3d clouds\n",
    "pcd0 = o3d.geometry.PointCloud()\n",
    "pcd0.points = o3d.utility.Vector3dVector(c0)\n",
    "pcd0.estimate_normals()\n",
    "\n",
    "pcd1 = o3d.geometry.PointCloud()\n",
    "pcd1.points = o3d.utility.Vector3dVector(c1)\n",
    "pcd0.estimate_normals()\n",
    "\n",
    "#do registration\n",
    "treshold = 100\n",
    "initial_T = T_p.transform()\n",
    "reg = o3d.pipelines.registration.registration_icp(\n",
    "    pcd1, pcd0, treshold, initial_T, \n",
    "    o3d.pipelines.registration.TransformationEstimationPointToPlane()\n",
    ")\n",
    "icp_transform = reg.transformation\n",
    "print(icp_transform)\n",
    "c1_registered = transform_cloud(c1, icp_transform)\n",
    "\n",
    "#vis_pc([c0, c1_0])\n",
    "vis_pc([c0, c1_registered])\n",
    "print(reg)\n",
    "print(T.transform())"
   ]
  },
  {
   "cell_type": "code",
   "execution_count": 26,
   "metadata": {},
   "outputs": [
    {
     "name": "stdout",
     "output_type": "stream",
     "text": [
      "<class 'numpy.ndarray'>\n"
     ]
    }
   ],
   "source": [
    "T = SE3()\n",
    "T.setIdentity()\n",
    "l = np.ones(6)\n",
    "t = T.log()\n",
    "l += t.coeffs()\n",
    "print(type(t.coeffs()))"
   ]
  }
 ],
 "metadata": {
  "kernelspec": {
   "display_name": "Python 3.9.12 ('base')",
   "language": "python",
   "name": "python3"
  },
  "language_info": {
   "codemirror_mode": {
    "name": "ipython",
    "version": 3
   },
   "file_extension": ".py",
   "mimetype": "text/x-python",
   "name": "python",
   "nbconvert_exporter": "python",
   "pygments_lexer": "ipython3",
   "version": "3.9.12"
  },
  "orig_nbformat": 4,
  "vscode": {
   "interpreter": {
    "hash": "f855230b8d1af0a1175eb1e018a76566b5b0c7c21b17beea99e6a208ed901df6"
   }
  }
 },
 "nbformat": 4,
 "nbformat_minor": 2
}
